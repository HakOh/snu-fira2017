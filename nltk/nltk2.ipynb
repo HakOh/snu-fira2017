{
 "cells": [
  {
   "cell_type": "markdown",
   "metadata": {},
   "source": [
    "### question17\n",
    "### ◑ Write a function that finds the 50 most frequently occurring words of a text that are not stopwords.\n"
   ]
  },
  {
   "cell_type": "code",
   "execution_count": 1,
   "metadata": {
    "collapsed": true
   },
   "outputs": [],
   "source": [
    "import re\n",
    "import nltk"
   ]
  },
  {
   "cell_type": "code",
   "execution_count": 2,
   "metadata": {
    "collapsed": true
   },
   "outputs": [],
   "source": [
    "stop = nltk.corpus.stopwords.words('english')\n",
    "\n",
    "words = nltk.corpus.gutenberg.words('carroll-alice.txt')"
   ]
  },
  {
   "cell_type": "code",
   "execution_count": 3,
   "metadata": {
    "collapsed": true
   },
   "outputs": [
    {
     "data": {
      "text/plain": [
       "[u'secondly',\n",
       " u'pardon',\n",
       " u'Tut',\n",
       " u'saves',\n",
       " u'knelt',\n",
       " u'four',\n",
       " u'Does',\n",
       " u'sleep',\n",
       " u'hanging',\n",
       " u'ringlets',\n",
       " u'oldest',\n",
       " u'hate',\n",
       " u'assembled',\n",
       " u'consider',\n",
       " u'whose',\n",
       " u'swam',\n",
       " u'YOURS',\n",
       " u'presents',\n",
       " u'Treacle',\n",
       " u'inwards']"
      ]
     },
     "execution_count": 3,
     "metadata": {},
     "output_type": "execute_result"
    }
   ],
   "source": [
    "freqdist = nltk.FreqDist(word for word in words if word not in stop)\n",
    "\n",
    "list(freqdist.keys())[0:20]"
   ]
  },
  {
   "cell_type": "code",
   "execution_count": 4,
   "metadata": {
    "collapsed": true
   },
   "outputs": [],
   "source": [
    "# 텍스트를 쌩으로 읽어서 소문자로 \n",
    "raw = nltk.corpus.gutenberg.raw('carroll-alice.txt')\n",
    "raw = raw.lower()\n",
    "words = nltk.word_tokenize(raw) #단어분할"
   ]
  },
  {
   "cell_type": "code",
   "execution_count": 5,
   "metadata": {
    "collapsed": false
   },
   "outputs": [],
   "source": [
    "freqdist = nltk.FreqDist(word for word in words if word not in stop and re.search('[:alnum:]', word))"
   ]
  },
  {
   "cell_type": "code",
   "execution_count": 6,
   "metadata": {
    "collapsed": true
   },
   "outputs": [
    {
     "data": {
      "text/plain": [
       "[(u'said', 462),\n",
       " (u'alice', 396),\n",
       " (u':', 233),\n",
       " (u\"n't\", 204),\n",
       " (u'little', 128),\n",
       " (u'one', 99),\n",
       " (u'would', 90),\n",
       " (u'know', 88),\n",
       " (u'could', 86),\n",
       " (u'like', 85),\n",
       " (u'went', 83),\n",
       " (u'queen', 75),\n",
       " (u'thought', 74),\n",
       " (u'time', 68),\n",
       " (u'king', 62),\n",
       " (u'turtle', 58),\n",
       " (u'began', 58),\n",
       " (u\"'and\", 56),\n",
       " (u\"'m\", 56),\n",
       " (u'hatter', 56),\n",
       " (u'mock', 56),\n",
       " (u'quite', 55),\n",
       " (u'gryphon', 54),\n",
       " (u'think', 53),\n",
       " (u'way', 53),\n",
       " (u\"'ll\", 52),\n",
       " (u'say', 51),\n",
       " (u'much', 51),\n",
       " (u'head', 50),\n",
       " (u\"'you\", 50),\n",
       " (u'thing', 49),\n",
       " (u'rabbit', 47),\n",
       " (u'never', 45),\n",
       " (u'looked', 45),\n",
       " (u'must', 44),\n",
       " (u'duchess', 42),\n",
       " (u'mouse', 41),\n",
       " (u'round', 41),\n",
       " (u'came', 40),\n",
       " (u'tone', 40),\n",
       " (u'dormouse', 40),\n",
       " (u'great', 39),\n",
       " (u\"'but\", 39),\n",
       " (u\"'what\", 38),\n",
       " (u'back', 37),\n",
       " (u'well', 37),\n",
       " (u'cat', 36),\n",
       " (u'march', 34),\n",
       " (u'large', 33),\n",
       " (u'last', 33)]"
      ]
     },
     "execution_count": 6,
     "metadata": {},
     "output_type": "execute_result"
    }
   ],
   "source": [
    "freqdist.most_common(50)"
   ]
  },
  {
   "cell_type": "code",
   "execution_count": null,
   "metadata": {
    "collapsed": true
   },
   "outputs": [],
   "source": []
  },
  {
   "cell_type": "markdown",
   "metadata": {
    "collapsed": true
   },
   "source": [
    "### question18\n",
    "\n",
    "### ◑ Write a program to print the 50 most frequent bigrams (pairs of adjacent words) of a text, omitting bigrams that contain stopwords."
   ]
  },
  {
   "cell_type": "code",
   "execution_count": 7,
   "metadata": {
    "collapsed": true
   },
   "outputs": [],
   "source": [
    "STOP = nltk.corpus.stopwords.words('english')\n",
    "\n",
    "raw = nltk.corpus.gutenberg.raw('carroll-alice.txt')\n",
    "\n",
    "raw = raw.lower()\n",
    "words = nltk.word_tokenize(raw)"
   ]
  },
  {
   "cell_type": "code",
   "execution_count": 8,
   "metadata": {
    "collapsed": true
   },
   "outputs": [],
   "source": [
    "#bigram\n",
    "\n",
    "def isword(word):\n",
    "    return ((word not in STOP) and bool(re.search('[0-9a-z]', word)))\n",
    "\n",
    "bigrams = nltk.ngrams(words, 2)"
   ]
  },
  {
   "cell_type": "code",
   "execution_count": 9,
   "metadata": {
    "collapsed": true
   },
   "outputs": [
    {
     "data": {
      "text/plain": [
       "[((u',', u\"'\"), 402),\n",
       " ((u\"'\", u'said'), 330),\n",
       " ((u'!', u\"'\"), 282),\n",
       " ((u'.', u\"'\"), 187),\n",
       " ((u'?', u\"'\"), 157),\n",
       " ((u'said', u'alice'), 115),\n",
       " ((u'alice', u','), 78),\n",
       " ((u'.', u\"'i\"), 69),\n",
       " ((u'*', u'*'), 57),\n",
       " ((u\"'\", u'alice'), 56),\n",
       " ((u'mock', u'turtle'), 55),\n",
       " ((u'alice', u'.'), 54),\n",
       " ((u'--', u\"'\"), 48),\n",
       " ((u\"'\", u\"'i\"), 47),\n",
       " ((u'.', u'alice'), 46),\n",
       " ((u\"'\", u'thought'), 32),\n",
       " ((u'march', u'hare'), 31),\n",
       " ((u'said', u','), 28),\n",
       " ((u'thought', u'alice'), 26),\n",
       " ((u',', u\"'and\"), 25),\n",
       " ((u'ca', u\"n't\"), 24),\n",
       " ((u\"'it\", u\"'s\"), 24),\n",
       " ((u',', u\"'i\"), 23),\n",
       " ((u'wo', u\"n't\"), 23),\n",
       " ((u'white', u'rabbit'), 22),\n",
       " ((u\"''\", u\"'\"), 21),\n",
       " ((u\"'\", u'('), 21),\n",
       " ((u\"'well\", u','), 20),\n",
       " ((u'.', u\"'it\"), 20),\n",
       " ((u\"'i\", u\"'m\"), 20),\n",
       " ((u\"'oh\", u','), 19),\n",
       " ((u'however', u','), 19),\n",
       " ((u'.', u\"'what\"), 19),\n",
       " ((u\"'\", u'--'), 18),\n",
       " ((u'queen', u','), 18),\n",
       " ((u'.', u\"'you\"), 18),\n",
       " ((u'--', u\"''\"), 17),\n",
       " ((u\"'\", u\"'you\"), 17),\n",
       " ((u'know', u'.'), 17),\n",
       " ((u':', u'--'), 16),\n",
       " ((u\"'that\", u\"'s\"), 16),\n",
       " ((u'tone', u','), 16),\n",
       " ((u'alice', u';'), 16),\n",
       " ((u'.', u')'), 16),\n",
       " ((u'king', u','), 16),\n",
       " ((u\"'\", u'cried'), 15),\n",
       " ((u'voice', u','), 15),\n",
       " ((u'know', u','), 15),\n",
       " ((u\"'\", u\"'it\"), 14),\n",
       " ((u'hatter', u'.'), 14)]"
      ]
     },
     "execution_count": 9,
     "metadata": {},
     "output_type": "execute_result"
    }
   ],
   "source": [
    "freqdist = nltk.FreqDist(bigram for bigram in bigrams if bigram[0] not in STOP and bigram[1] not in STOP)\n",
    "\n",
    "freqdist.most_common(50)"
   ]
  },
  {
   "cell_type": "code",
   "execution_count": null,
   "metadata": {
    "collapsed": true
   },
   "outputs": [],
   "source": []
  },
  {
   "cell_type": "code",
   "execution_count": null,
   "metadata": {
    "collapsed": true
   },
   "outputs": [],
   "source": []
  },
  {
   "cell_type": "code",
   "execution_count": null,
   "metadata": {
    "collapsed": true
   },
   "outputs": [],
   "source": []
  },
  {
   "cell_type": "code",
   "execution_count": null,
   "metadata": {
    "collapsed": true
   },
   "outputs": [],
   "source": []
  },
  {
   "cell_type": "code",
   "execution_count": null,
   "metadata": {
    "collapsed": true
   },
   "outputs": [],
   "source": []
  }
 ],
 "metadata": {
  "kernelspec": {
   "display_name": "Python 2",
   "language": "python",
   "name": "python2"
  },
  "language_info": {
   "codemirror_mode": {
    "name": "ipython",
    "version": 2
   },
   "file_extension": ".py",
   "mimetype": "text/x-python",
   "name": "python",
   "nbconvert_exporter": "python",
   "pygments_lexer": "ipython2",
   "version": "2.7.13"
  }
 },
 "nbformat": 4,
 "nbformat_minor": 2
}
